{
 "cells": [
  {
   "cell_type": "code",
   "execution_count": 6,
   "metadata": {},
   "outputs": [
    {
     "data": {
      "text/plain": [
       "True"
      ]
     },
     "execution_count": 6,
     "metadata": {},
     "output_type": "execute_result"
    }
   ],
   "source": [
    "class Solution(object):\n",
    "    def kLengthApart(self, nums, k):\n",
    "        \"\"\"\n",
    "        :type nums: List[int]\n",
    "        :type k: int\n",
    "        :rtype: bool\n",
    "        \"\"\"\n",
    "        res = []\n",
    "        count = 0\n",
    "        for num in nums:\n",
    "            count += 1\n",
    "            if num == 1:\n",
    "                res.append(count)\n",
    "        for i in range(len(res)-1,1,-1):\n",
    "            if res[i]-res[i-1] <= k:\n",
    "                return False\n",
    "        return True\n",
    "            \n",
    "            \n",
    "nums = [0,1,0,1]\n",
    "k = 1\n",
    "Solution().kLengthApart(nums,k)"
   ]
  },
  {
   "cell_type": "code",
   "execution_count": 12,
   "metadata": {},
   "outputs": [
    {
     "data": {
      "text/plain": [
       "True"
      ]
     },
     "execution_count": 12,
     "metadata": {},
     "output_type": "execute_result"
    }
   ],
   "source": [
    "class Solution:\n",
    "    def kLengthApart(self, nums, k):\n",
    "        last = -k -1 # 当第一 1 在下标 0 1 2 时 使用 i - last <= k\n",
    "        for i in range(len(nums)):\n",
    "            if nums[i] == 1:\n",
    "                if i - last <= k:\n",
    "                    return False\n",
    "                last = i # 切换 1 的下标\n",
    "        return True\n",
    "nums = [0,1,0,1]\n",
    "k = 1\n",
    "Solution().kLengthApart(nums,k)"
   ]
  },
  {
   "cell_type": "code",
   "execution_count": null,
   "metadata": {},
   "outputs": [],
   "source": []
  },
  {
   "cell_type": "code",
   "execution_count": null,
   "metadata": {},
   "outputs": [],
   "source": []
  }
 ],
 "metadata": {
  "kernelspec": {
   "display_name": "Python 3",
   "language": "python",
   "name": "python3"
  },
  "language_info": {
   "codemirror_mode": {
    "name": "ipython",
    "version": 3
   },
   "file_extension": ".py",
   "mimetype": "text/x-python",
   "name": "python",
   "nbconvert_exporter": "python",
   "pygments_lexer": "ipython3",
   "version": "3.7.4"
  }
 },
 "nbformat": 4,
 "nbformat_minor": 2
}
