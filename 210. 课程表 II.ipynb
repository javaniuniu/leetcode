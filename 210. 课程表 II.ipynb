{
 "cells": [
  {
   "cell_type": "code",
   "execution_count": null,
   "metadata": {},
   "outputs": [],
   "source": [
    "class Solution:\n",
    "    def findOrder(self, numCourses: int, prerequisites: List[List[int]]) -> List[int]:\n",
    "        # 存储有向图\n",
    "        edges = collections.defaultdict(list)\n",
    "        # 存储每个节点的入度\n",
    "        indeg = [0] * numCourses\n",
    "        # 存储答案\n",
    "        result = list()\n",
    "\n",
    "        for info in prerequisites:\n",
    "            edges[info[1]].append(info[0])\n",
    "            indeg[info[0]] += 1\n",
    "        \n",
    "        # 将所有入度为 0 的节点放入队列中\n",
    "        q = collections.deque([u for u in range(numCourses) if indeg[u] == 0])\n",
    "\n",
    "        while q:\n",
    "            # 从队首取出一个节点\n",
    "            u = q.popleft()\n",
    "            # 放入答案中\n",
    "            result.append(u)\n",
    "            for v in edges[u]:\n",
    "                indeg[v] -= 1\n",
    "                # 如果相邻节点 v 的入度为 0，就可以选 v 对应的课程了\n",
    "                if indeg[v] == 0:\n",
    "                    q.append(v)\n",
    "\n",
    "        if len(result) != numCourses:\n",
    "            result = list()\n",
    "        return result\n",
    "\n"
   ]
  }
 ],
 "metadata": {
  "kernelspec": {
   "display_name": "Python 3",
   "language": "python",
   "name": "python3"
  },
  "language_info": {
   "codemirror_mode": {
    "name": "ipython",
    "version": 3
   },
   "file_extension": ".py",
   "mimetype": "text/x-python",
   "name": "python",
   "nbconvert_exporter": "python",
   "pygments_lexer": "ipython3",
   "version": "3.7.4"
  }
 },
 "nbformat": 4,
 "nbformat_minor": 2
}
