{
 "cells": [
  {
   "cell_type": "code",
   "execution_count": 1,
   "metadata": {},
   "outputs": [
    {
     "name": "stdout",
     "output_type": "stream",
     "text": [
      "None\n"
     ]
    }
   ],
   "source": [
    "class Solution(object):\n",
    "    def maxArea(self, height):\n",
    "        left_index = 0\n",
    "        right_index = len(height)-1\n",
    "        ans = 0\n",
    "        while left_index != right_index:\n",
    "            left_height = height[left_index]\n",
    "            right_height = height[right_index]\n",
    "            product = 0\n",
    "            if left_height > right_height:\n",
    "                product = (right_index - left_index) * right_height\n",
    "                right_index -= 1\n",
    "            else:\n",
    "                product = (right_index - left_index) * left_height\n",
    "                left_index += 1\n",
    "            ans = max(ans,product)\n",
    "                \n",
    "            \n",
    "height = [1,8,6,2,5,4,8,3,7]\n",
    "print(Solution().maxArea(height))"
   ]
  },
  {
   "cell_type": "code",
   "execution_count": null,
   "metadata": {},
   "outputs": [],
   "source": []
  }
 ],
 "metadata": {
  "kernelspec": {
   "display_name": "Python 3",
   "language": "python",
   "name": "python3"
  },
  "language_info": {
   "codemirror_mode": {
    "name": "ipython",
    "version": 3
   },
   "file_extension": ".py",
   "mimetype": "text/x-python",
   "name": "python",
   "nbconvert_exporter": "python",
   "pygments_lexer": "ipython3",
   "version": "3.7.4"
  }
 },
 "nbformat": 4,
 "nbformat_minor": 2
}
