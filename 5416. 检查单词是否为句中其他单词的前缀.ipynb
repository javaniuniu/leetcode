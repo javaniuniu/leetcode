{
 "cells": [
  {
   "cell_type": "code",
   "execution_count": 2,
   "metadata": {},
   "outputs": [],
   "source": [
    "class Solution(object):\n",
    "    def isPrefixOfWord(self, sentence, searchWord):\n",
    "        \"\"\"\n",
    "        :type sentence: str\n",
    "        :type searchWord: str\n",
    "        :rtype: int\n",
    "        \"\"\"\n",
    "        sentence = sentence.split(' ')\n",
    "        for i in range(len(sentence)):\n",
    "            if len(sentence[i]) < len(searchWord):\n",
    "                continue\n",
    "            if len()\n",
    "            "
   ]
  },
  {
   "cell_type": "code",
   "execution_count": null,
   "metadata": {},
   "outputs": [],
   "source": [
    "zipp"
   ]
  }
 ],
 "metadata": {
  "kernelspec": {
   "display_name": "Python 3",
   "language": "python",
   "name": "python3"
  },
  "language_info": {
   "codemirror_mode": {
    "name": "ipython",
    "version": 3
   },
   "file_extension": ".py",
   "mimetype": "text/x-python",
   "name": "python",
   "nbconvert_exporter": "python",
   "pygments_lexer": "ipython3",
   "version": "3.7.6"
  }
 },
 "nbformat": 4,
 "nbformat_minor": 4
}
