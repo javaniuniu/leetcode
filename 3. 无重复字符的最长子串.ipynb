{
 "cells": [
  {
   "cell_type": "code",
   "execution_count": 4,
   "metadata": {},
   "outputs": [
    {
     "data": {
      "text/plain": [
       "3"
      ]
     },
     "execution_count": 4,
     "metadata": {},
     "output_type": "execute_result"
    }
   ],
   "source": [
    "class Solution(object):\n",
    "    def lengthOfLongestSubstring(self, s):\n",
    "        left = 0\n",
    "        curLen = 0 # 当前长度\n",
    "        maxLen = 0 # 最长字符串\n",
    "        lookup = set() # 用来存储滑动的字符串\n",
    "        for i in range(len(s)):\n",
    "            curLen +=1\n",
    "            while s[i] in lookup:\n",
    "                lookup.remove(s[i])\n",
    "                left += 1\n",
    "                curLen -= 1\n",
    "            \n",
    "            #比较当前长度和最长长度\n",
    "            if curLen > maxLen:maxLen=curLen\n",
    "            lookup.add(s[i])\n",
    "        return maxLen\n",
    "s = \"abcabcbb\"\n",
    "Solution().lengthOfLongestSubstring(s)"
   ]
  },
  {
   "cell_type": "code",
   "execution_count": null,
   "metadata": {},
   "outputs": [],
   "source": []
  }
 ],
 "metadata": {
  "kernelspec": {
   "display_name": "Python 3",
   "language": "python",
   "name": "python3"
  },
  "language_info": {
   "codemirror_mode": {
    "name": "ipython",
    "version": 3
   },
   "file_extension": ".py",
   "mimetype": "text/x-python",
   "name": "python",
   "nbconvert_exporter": "python",
   "pygments_lexer": "ipython3",
   "version": "3.7.4"
  }
 },
 "nbformat": 4,
 "nbformat_minor": 2
}
