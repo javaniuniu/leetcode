{
 "cells": [
  {
   "cell_type": "code",
   "execution_count": 8,
   "metadata": {},
   "outputs": [
    {
     "data": {
      "text/plain": [
       "[2, 2]"
      ]
     },
     "execution_count": 8,
     "metadata": {},
     "output_type": "execute_result"
    }
   ],
   "source": [
    "class Solution(object):\n",
    "    # 摩尔投票法思路\n",
    "    def majorityElement(self, nums):\n",
    "        res = [] # 返回数组\n",
    "        majorityO = -1 # 候选人1\n",
    "        majorityT = -1 # 候选人2\n",
    "        countO = 0 # 候选人1 票数\n",
    "        countT = 0 # 候选人2 票数\n",
    "        for num in nums:\n",
    "            if countO == 0 and num != majorityT:\n",
    "                majorityO = num\n",
    "                countO += 1\n",
    "                continue\n",
    "            elif countT == 0 and num != majorityO:\n",
    "                majorityT = num\n",
    "                countT += 1\n",
    "                continue\n",
    "            else:\n",
    "                if majorityO == num:\n",
    "                    countO += 1\n",
    "                elif majorityT == num:\n",
    "                    countT += 1\n",
    "                else:\n",
    "                    countO -= 1\n",
    "                    countT -= 1\n",
    "        counterO = 0\n",
    "        counterT = 0\n",
    "            \n",
    "        if countO > 0:\n",
    "            for num in nums:\n",
    "                if num == majorityO:\n",
    "                    counterO += 1\n",
    "        if counterO > len(nums)//3:\n",
    "            res.append(majorityO)\n",
    "        if countT > 0:\n",
    "            for num in nums:\n",
    "                if num == majorityT:\n",
    "                    counterT += 1\n",
    "        if counterT > len(nums)//3:\n",
    "            res.append(majorityT)\n",
    "        \n",
    "        return res\n",
    "nums = [1,2,3]\n",
    "print(Solution().majorityElement(nums))\n",
    "            \n",
    "                \n",
    "                    \n",
    "                \n",
    "                "
   ]
  },
  {
   "cell_type": "code",
   "execution_count": null,
   "metadata": {},
   "outputs": [],
   "source": []
  },
  {
   "cell_type": "code",
   "execution_count": null,
   "metadata": {},
   "outputs": [],
   "source": []
  }
 ],
 "metadata": {
  "kernelspec": {
   "display_name": "Python 3",
   "language": "python",
   "name": "python3"
  },
  "language_info": {
   "codemirror_mode": {
    "name": "ipython",
    "version": 3
   },
   "file_extension": ".py",
   "mimetype": "text/x-python",
   "name": "python",
   "nbconvert_exporter": "python",
   "pygments_lexer": "ipython3",
   "version": "3.7.4"
  }
 },
 "nbformat": 4,
 "nbformat_minor": 2
}
