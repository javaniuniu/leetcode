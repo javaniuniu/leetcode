{
 "cells": [
  {
   "cell_type": "code",
   "execution_count": 16,
   "metadata": {},
   "outputs": [
    {
     "name": "stdout",
     "output_type": "stream",
     "text": [
      "999\n"
     ]
    }
   ],
   "source": [
    "# 替换\n",
    "s='555'\n",
    "s=s.replace('5','9') \n",
    "print(s)"
   ]
  },
  {
   "cell_type": "code",
   "execution_count": 17,
   "metadata": {},
   "outputs": [
    {
     "data": {
      "text/plain": [
       "0"
      ]
     },
     "execution_count": 17,
     "metadata": {},
     "output_type": "execute_result"
    }
   ],
   "source": [
    "# 错误代码，\n",
    "class Solution(object):\n",
    "    def maxDiff(self, num):\n",
    "        \"\"\"\n",
    "        :type num: int\n",
    "        :rtype: int\n",
    "        \"\"\"\n",
    "        num_max = 0\n",
    "        num_min = 0\n",
    "        num_str = str(num)\n",
    "        for i in range(len(num_str)):\n",
    "            if num_str[i] == '9':\n",
    "                continue\n",
    "            else:\n",
    "                num_str.replace(num_str[i],'9')\n",
    "                num_max = int(num_str)\n",
    "                break\n",
    "        num_str_min = str(num)\n",
    "        for i in range(len(num_str_min)):\n",
    "            if i == 0 and num_str_min[0] == '1':\n",
    "                continue\n",
    "            if num_str_min[i] == '0':\n",
    "                continue\n",
    "            else:\n",
    "                num_str_min.replace(num_str_min[i],'0')\n",
    "                num_min = int(num_str_min)\n",
    "                break\n",
    "            \n",
    "        return num_max - num_min\n",
    "Solution().maxDiff(555)"
   ]
  },
  {
   "cell_type": "code",
   "execution_count": 31,
   "metadata": {},
   "outputs": [
    {
     "data": {
      "text/plain": [
       "820000"
      ]
     },
     "execution_count": 31,
     "metadata": {},
     "output_type": "execute_result"
    }
   ],
   "source": [
    "class Solution(object):\n",
    "    def maxDiff(self, num):\n",
    "        num_max ,num_min = int(num) , int(num)\n",
    "        st = str(num)\n",
    "        for i in range(10):\n",
    "            for j in range(10):\n",
    "                a,b = str(i),str(j)\n",
    "                x = st.replace(a,b)\n",
    "                if x.startswith('0'):\n",
    "                    continue\n",
    "                x = int(x)\n",
    "                num_max = max(num_max,x)\n",
    "                num_min = min(num_min,x)\n",
    "        return num_max - num_min\n",
    "s=123456\n",
    "Solution().maxDiff(s)"
   ]
  },
  {
   "cell_type": "code",
   "execution_count": 28,
   "metadata": {},
   "outputs": [
    {
     "name": "stdout",
     "output_type": "stream",
     "text": [
      "0\n"
     ]
    }
   ],
   "source": [
    "#当对比了自己一开始写的题解代码后，发现一个问题，写代码存在，用机器的方式编写，和以人脑的方式编写"
   ]
  },
  {
   "cell_type": "code",
   "execution_count": 32,
   "metadata": {},
   "outputs": [
    {
     "name": "stdout",
     "output_type": "stream",
     "text": [
      "True\n"
     ]
    }
   ],
   "source": [
    "print(True or False)"
   ]
  },
  {
   "cell_type": "code",
   "execution_count": null,
   "metadata": {},
   "outputs": [],
   "source": []
  }
 ],
 "metadata": {
  "kernelspec": {
   "display_name": "Python 3",
   "language": "python",
   "name": "python3"
  },
  "language_info": {
   "codemirror_mode": {
    "name": "ipython",
    "version": 3
   },
   "file_extension": ".py",
   "mimetype": "text/x-python",
   "name": "python",
   "nbconvert_exporter": "python",
   "pygments_lexer": "ipython3",
   "version": "3.7.4"
  }
 },
 "nbformat": 4,
 "nbformat_minor": 2
}
