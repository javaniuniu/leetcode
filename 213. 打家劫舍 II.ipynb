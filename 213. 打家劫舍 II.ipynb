{
 "cells": [
  {
   "cell_type": "code",
   "execution_count": 13,
   "metadata": {},
   "outputs": [
    {
     "data": {
      "text/plain": [
       "2"
      ]
     },
     "execution_count": 13,
     "metadata": {},
     "output_type": "execute_result"
    }
   ],
   "source": [
    "class Solution(object):\n",
    "    def rob(self, nums):\n",
    "        \"\"\"\n",
    "        :type nums: List[int]\n",
    "        :rtype: int\n",
    "        \"\"\"\n",
    "        def robmax(nums):\n",
    "            nums_len = len(nums)\n",
    "            if not nums:\n",
    "                return 0\n",
    "            if nums_len == 1:\n",
    "                return nums[0]\n",
    "            \n",
    "            opt = [0] * nums_len\n",
    "            opt[0] = nums[0]\n",
    "            opt[1] = max(nums[0],nums[1])\n",
    "            \n",
    "            for i in range(2,nums_len):\n",
    "                opt[i] = max(opt[i-1],opt[i-2]+nums[i])\n",
    "            return opt[nums_len-1]\n",
    "        \n",
    "        if not nums:\n",
    "            return 0\n",
    "        if len(nums) == 1:\n",
    "            return nums[0]\n",
    "        \n",
    "        nums1 = nums[1:] #[1,n] 找到到最大值\n",
    "        nums2 = nums[0:len(nums)-1]\n",
    "        return max(robmax(nums1),robmax(nums2))\n",
    "        \n",
    "        \n",
    "nums = [2]\n",
    "Solution().rob(nums)"
   ]
  },
  {
   "cell_type": "code",
   "execution_count": 1,
   "metadata": {},
   "outputs": [
    {
     "name": "stdout",
     "output_type": "stream",
     "text": [
      "[2, 3, 4, 5, 6, 7, 8, 9]\n",
      "[1, 2, 3, 4, 5, 6, 7, 8]\n"
     ]
    }
   ],
   "source": [
    "def subnums(nums):\n",
    "    nums1 = nums[1:] #[1,n] 找到到最大值\n",
    "    nums2 = nums[:len(nums)-1] # [0,n-1] 找到到最大值\n",
    "    print(nums1)\n",
    "    print(nums2)\n",
    "nums = [1,2,3,4,5,6,7,8,9]\n",
    "subnums(nums)"
   ]
  },
  {
   "cell_type": "code",
   "execution_count": 7,
   "metadata": {},
   "outputs": [
    {
     "data": {
      "text/plain": [
       "4"
      ]
     },
     "execution_count": 7,
     "metadata": {},
     "output_type": "execute_result"
    }
   ],
   "source": [
    "def robmax(nums):\n",
    "    nums_len = len(nums)\n",
    "    if not nums:\n",
    "        return 0\n",
    "    if nums_len == 1:\n",
    "        return nums[0]\n",
    "\n",
    "    opt = [0] * nums_len\n",
    "    opt[0] = nums[0]\n",
    "    opt[1] = max(nums[0],nums[1])\n",
    "\n",
    "    for i in range(2,nums_len):\n",
    "        opt[i] = max(opt[i-1],opt[i-2]+nums[i])\n",
    "    return opt[nums_len-1]\n",
    "nums = [1,2,3]\n",
    "robmax(nums)"
   ]
  },
  {
   "cell_type": "code",
   "execution_count": null,
   "metadata": {},
   "outputs": [],
   "source": []
  }
 ],
 "metadata": {
  "kernelspec": {
   "display_name": "Python 3",
   "language": "python",
   "name": "python3"
  },
  "language_info": {
   "codemirror_mode": {
    "name": "ipython",
    "version": 3
   },
   "file_extension": ".py",
   "mimetype": "text/x-python",
   "name": "python",
   "nbconvert_exporter": "python",
   "pygments_lexer": "ipython3",
   "version": "3.7.4"
  }
 },
 "nbformat": 4,
 "nbformat_minor": 2
}
