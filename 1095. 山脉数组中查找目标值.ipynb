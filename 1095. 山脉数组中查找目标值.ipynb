{
 "cells": [
  {
   "cell_type": "code",
   "execution_count": 16,
   "metadata": {},
   "outputs": [
    {
     "data": {
      "text/plain": [
       "-1"
      ]
     },
     "execution_count": 16,
     "metadata": {},
     "output_type": "execute_result"
    }
   ],
   "source": [
    "# 搜索指定值 二分查找\n",
    "# 对于这种 可以分成左右数组来获取值\n",
    "# 先寻找峰值\n",
    "def findInMountainArray(target, mountain_arr):\n",
    "    res = [-1,-1]\n",
    "    lo = 0 \n",
    "    hi = len(mountain_arr)\n",
    "    top=0\n",
    "    # 判断最高峰\n",
    "    while lo<hi:\n",
    "        mid = lo+ (hi-lo)//2\n",
    "        if mountain_arr[mid] > mountain_arr[mid-1]:\n",
    "            lo = mid + 1\n",
    "        else:\n",
    "            hi = mid\n",
    "    top = lo -1\n",
    "    \n",
    "    \n",
    "    lo = 0\n",
    "    hi = top\n",
    "    \n",
    "    # 左半\n",
    "    while lo<hi:\n",
    "        mid = lo+ (hi-lo)//2\n",
    "        if mountain_arr[mid] == target:\n",
    "            res[0] = mid\n",
    "        if mountain_arr[mid] > target:\n",
    "            hi = mid\n",
    "        else:\n",
    "            lo = mid + 1\n",
    "            \n",
    "    lo = top\n",
    "    hi = len(mountain_arr)\n",
    "    # 右半\n",
    "    while lo<hi:\n",
    "        mid = lo+ (hi-lo)//2\n",
    "        if mountain_arr[mid] == target:\n",
    "            res[1] = mid\n",
    "        if mountain_arr[mid] > target:\n",
    "            lo = mid + 1\n",
    "        else:\n",
    "             hi = mid\n",
    "    \n",
    "    if res[0]==-1:\n",
    "        return res[1]\n",
    "    return res[0]\n",
    "\n",
    "array = [1,5,2]\n",
    "target = 0\n",
    "findInMountainArray(target,array)\n",
    "            \n",
    "    \n",
    "    \n",
    "\n",
    "\n"
   ]
  },
  {
   "cell_type": "code",
   "execution_count": 15,
   "metadata": {},
   "outputs": [
    {
     "name": "stdout",
     "output_type": "stream",
     "text": [
      "[1, -2]\n"
     ]
    }
   ],
   "source": [
    "v = [-1,-2]\n",
    "v[0]=1\n",
    "print(v)"
   ]
  },
  {
   "cell_type": "code",
   "execution_count": null,
   "metadata": {},
   "outputs": [],
   "source": []
  },
  {
   "cell_type": "code",
   "execution_count": null,
   "metadata": {},
   "outputs": [],
   "source": []
  }
 ],
 "metadata": {
  "kernelspec": {
   "display_name": "Python 3",
   "language": "python",
   "name": "python3"
  },
  "language_info": {
   "codemirror_mode": {
    "name": "ipython",
    "version": 3
   },
   "file_extension": ".py",
   "mimetype": "text/x-python",
   "name": "python",
   "nbconvert_exporter": "python",
   "pygments_lexer": "ipython3",
   "version": "3.7.4"
  }
 },
 "nbformat": 4,
 "nbformat_minor": 2
}
