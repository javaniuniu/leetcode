{
 "cells": [
  {
   "cell_type": "code",
   "execution_count": 1,
   "metadata": {},
   "outputs": [
    {
     "data": {
      "text/plain": [
       "6"
      ]
     },
     "execution_count": 1,
     "metadata": {},
     "output_type": "execute_result"
    }
   ],
   "source": [
    "words = [\"cat\",\"bt\",\"hat\",\"tree\"]\n",
    "chars = \"atach\"\n",
    "def countCharacters(words, chars):\n",
    "    res = 0\n",
    "    for word in words:\n",
    "#         for i in chars:\n",
    "#             if word.count(i)<=chars.count(i):\n",
    "#                 flag = 1\n",
    "#                 continue\n",
    "#             else:\n",
    "#                 flag = 0\n",
    "#                 break\n",
    "#         if flag == 1:\n",
    "#             res += len(word)\n",
    "        if all(word.count(i)<=chars.count(i) for i in word):\n",
    "            res += len(word)\n",
    "    return res\n",
    "    \n",
    "countCharacters(words,chars)"
   ]
  },
  {
   "cell_type": "code",
   "execution_count": null,
   "metadata": {},
   "outputs": [],
   "source": []
  }
 ],
 "metadata": {
  "kernelspec": {
   "display_name": "Python 3",
   "language": "python",
   "name": "python3"
  },
  "language_info": {
   "codemirror_mode": {
    "name": "ipython",
    "version": 3
   },
   "file_extension": ".py",
   "mimetype": "text/x-python",
   "name": "python",
   "nbconvert_exporter": "python",
   "pygments_lexer": "ipython3",
   "version": "3.7.4"
  }
 },
 "nbformat": 4,
 "nbformat_minor": 2
}
