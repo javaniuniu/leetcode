{
 "cells": [
  {
   "cell_type": "code",
   "execution_count": 25,
   "metadata": {},
   "outputs": [
    {
     "name": "stdout",
     "output_type": "stream",
     "text": [
      "True\n",
      "True\n",
      "True\n",
      "True\n",
      "False\n"
     ]
    }
   ],
   "source": [
    "import numpy as np\n",
    "\n",
    "# 题目在数组中找出和为s的数\n",
    "arr = [3,34,4,12,5,2]\n",
    "# 递归写法\n",
    "def rec_subset(arr,i,s):\n",
    "    # 找出口\n",
    "    if s ==0:\n",
    "        return True\n",
    "    if i ==0:\n",
    "        return arr[0]==s\n",
    "    if arr[i]>s:\n",
    "        return rec_subset(arr,i-1,s)\n",
    "    else:\n",
    "        a = rec_subset(arr,i-1,s-arr[i]) #选择arr[i] \n",
    "        b = rec_subset(arr,i-1,s) # 不选arr[i]\n",
    "        return a or b\n",
    "        \n",
    "# print(rec_subset(arr,len(arr)-1,9))\n",
    "# print(rec_subset(arr,len(arr)-1,10))\n",
    "# print(rec_subset(arr,len(arr)-1,11))\n",
    "# print(rec_subset(arr,len(arr)-1,12))\n",
    "# print(rec_subset(arr,len(arr)-1,13))\n",
    "# 动态规划\n",
    "def dp_subset(arr,S):\n",
    "    subset = np.zeros((len(arr),S+1),dtype = bool)\n",
    "    subset[:,0] = True\n",
    "    subset[0,:] = False\n",
    "    subset[0,arr[0]] = True\n",
    "    for i in range(1,len(arr)):\n",
    "        for s in range(1,S+1):\n",
    "            if arr[i]>s:\n",
    "                subset[i,s] = subset[i-1,s]\n",
    "            else:\n",
    "                a = subset[i-1,s-arr[i]] #选择arr[i] \n",
    "                b = subset[i-1,s] # 不选arr[i]\n",
    "                subset[i,s] = a or b\n",
    "    r ,c = subset.shape\n",
    "    return subset[r-1,c-1]\n",
    "\n",
    "print(dp_subset(arr,9))\n",
    "print(dp_subset(arr,10))\n",
    "print(dp_subset(arr,11))\n",
    "print(dp_subset(arr,12))\n",
    "print(dp_subset(arr,13))\n"
   ]
  },
  {
   "cell_type": "code",
   "execution_count": 19,
   "metadata": {},
   "outputs": [
    {
     "data": {
      "text/plain": [
       "15.0"
      ]
     },
     "execution_count": 19,
     "metadata": {},
     "output_type": "execute_result"
    }
   ],
   "source": [
    "# 题目在数组中找出两数相加的最大数，其中两个数不能是相邻的两个数\n",
    "import numpy as np\n",
    "arr = [1,2,4,1,7,8,3]\n",
    "\n",
    "# 递归\n",
    "def rec_opt(arr,i):\n",
    "    # 找出口\n",
    "    if i ==0:\n",
    "        return arr[0]\n",
    "    elif i==1:\n",
    "        return max(arr[0],arr[1])\n",
    "    else:\n",
    "        a = rec_opt(arr,i-2) + arr[i] #选择arr[i] \n",
    "        b = rec_opt(arr,i-1)# 不选arr[i]\n",
    "        return max(a,b)\n",
    "    \n",
    "#rec_opt(arr,6)\n",
    "\n",
    "# 动态规划\n",
    "def dp_opt(arr):\n",
    "    opt = np.zeros(len(arr))\n",
    "    opt[0] = arr[0]\n",
    "    opt[1] = max(arr[0],arr[1])\n",
    "    for i in range(2,len(arr)):\n",
    "        a = opt[i-2] + arr[i]#选择arr[i] \n",
    "        b = opt[i-1]\n",
    "        opt[i] = max(a,b)\n",
    "    return opt[len(arr)-1]\n",
    "    \n",
    "dp_opt(arr)"
   ]
  },
  {
   "cell_type": "code",
   "execution_count": null,
   "metadata": {},
   "outputs": [],
   "source": []
  },
  {
   "cell_type": "code",
   "execution_count": null,
   "metadata": {},
   "outputs": [],
   "source": []
  },
  {
   "cell_type": "code",
   "execution_count": null,
   "metadata": {},
   "outputs": [],
   "source": []
  }
 ],
 "metadata": {
  "kernelspec": {
   "display_name": "Python 3",
   "language": "python",
   "name": "python3"
  },
  "language_info": {
   "codemirror_mode": {
    "name": "ipython",
    "version": 3
   },
   "file_extension": ".py",
   "mimetype": "text/x-python",
   "name": "python",
   "nbconvert_exporter": "python",
   "pygments_lexer": "ipython3",
   "version": "3.7.4"
  }
 },
 "nbformat": 4,
 "nbformat_minor": 2
}
