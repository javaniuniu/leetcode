{
 "cells": [
  {
   "cell_type": "code",
   "execution_count": 1,
   "metadata": {},
   "outputs": [
    {
     "data": {
      "text/plain": [
       "<zip at 0x10384d730>"
      ]
     },
     "execution_count": 1,
     "metadata": {},
     "output_type": "execute_result"
    }
   ],
   "source": [
    "class Solution(object):\n",
    "    def destCity(self, paths):\n",
    "        for li in paths:\n",
    "            for l in paths:\n",
    "                if li[1] !=  \n",
    "            if li[1] != li\n",
    "        return c\n",
    "        \n",
    "paths = [[\"London\",\"New York\"],[\"New York\",\"Lima\"],[\"Lima\",\"Sao Paulo\"]]\n",
    "Solution().destCity(paths)"
   ]
  },
  {
   "cell_type": "code",
   "execution_count": 2,
   "metadata": {},
   "outputs": [
    {
     "name": "stdout",
     "output_type": "stream",
     "text": [
      "<zip object at 0x10384a230>\n"
     ]
    }
   ],
   "source": [
    "p1 = [\"London\",\"New York\"]\n",
    "p2 = [\"New York\",\"Lima\"]\n",
    "for x,y in zip(p1,p2):\n",
    "    if \n",
    "print(zip(p1,p2))\n",
    "        "
   ]
  },
  {
   "cell_type": "code",
   "execution_count": 41,
   "metadata": {},
   "outputs": [
    {
     "name": "stdout",
     "output_type": "stream",
     "text": [
      "['London', 'New York', 'Lima']\n",
      "('London', 'New York', 'Lima')\n",
      "New York\n",
      "['New York', 'Lima', 'Sao Paulo']\n",
      "('New York', 'Lima', 'Sao Paulo')\n",
      "Lima\n"
     ]
    }
   ],
   "source": [
    "paths = [[\"London\",\"New York\"],[\"New York\",\"Lima\"],[\"Lima\",\"Sao Paulo\"]]\n",
    "c = zip(*paths)\n",
    "for li in c:\n",
    "    print(list(li))\n",
    "    print(li)\n",
    "    print(li[1])\n",
    "#     for l in li[0]:\n",
    "#         print(l)\n"
   ]
  },
  {
   "cell_type": "code",
   "execution_count": 55,
   "metadata": {},
   "outputs": [
    {
     "name": "stdout",
     "output_type": "stream",
     "text": [
      "London\n",
      "New York\n",
      "Lima\n",
      "New York\n",
      "Lima\n",
      "Sao Paulo\n"
     ]
    }
   ],
   "source": [
    "paths = [[\"London\",\"New York\"],[\"New York\",\"Lima\"],[\"Lima\",\"Sao Paulo\"]]\n",
    "di = []\n",
    "c = zip(*paths)\n",
    "for li in c:\n",
    "#     print(list(li))\n",
    "    for i in list(li):\n",
    "#         print(i)\n",
    "        if i not in di:\n",
    "            di.append(i)\n",
    "        else:\n",
    "            de.remove(i)\n",
    "        print(di)\n",
    "\n"
   ]
  },
  {
   "cell_type": "code",
   "execution_count": 52,
   "metadata": {},
   "outputs": [
    {
     "name": "stdout",
     "output_type": "stream",
     "text": [
      "['a', 'b', 'c', 'd', 'e', 'f']\n",
      "['a', 'b', 'c', 'd', 'e']\n",
      "['b', 'c', 'd', 'e', 'f']\n",
      "<zip object at 0x104c7ae10>\n",
      "<zip object at 0x104c81be0>\n",
      "('a', 'b', 'c', 'd', 'e')\n",
      "('b', 'c', 'd', 'e', 'f')\n"
     ]
    }
   ],
   "source": [
    "l = ['a', 'b', 'c', 'd', 'e','f']\n",
    "print(l)\n",
    "print(l[:-1])\n",
    "print(l[1:])\n",
    "c = zip(l[:-1],l[1:])\n",
    "d = zip(*c)\n",
    "print(c)\n",
    "print(d)\n",
    "for i in d:\n",
    "    print(i)"
   ]
  },
  {
   "cell_type": "code",
   "execution_count": null,
   "metadata": {},
   "outputs": [],
   "source": []
  }
 ],
 "metadata": {
  "kernelspec": {
   "display_name": "Python 3",
   "language": "python",
   "name": "python3"
  },
  "language_info": {
   "codemirror_mode": {
    "name": "ipython",
    "version": 3
   },
   "file_extension": ".py",
   "mimetype": "text/x-python",
   "name": "python",
   "nbconvert_exporter": "python",
   "pygments_lexer": "ipython3",
   "version": "3.7.4"
  }
 },
 "nbformat": 4,
 "nbformat_minor": 2
}
