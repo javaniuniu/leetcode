{
 "cells": [
  {
   "cell_type": "code",
   "execution_count": 14,
   "metadata": {},
   "outputs": [
    {
     "data": {
      "text/plain": [
       "[0, 0, 1, 1, 2, 2, 3, 4]"
      ]
     },
     "execution_count": 14,
     "metadata": {},
     "output_type": "execute_result"
    }
   ],
   "source": [
    "class Solution(object):\n",
    "    def peopleIndexes(self, favoriteCompanies):\n",
    "        \"\"\"\n",
    "        :type favoriteCompanies: List[List[str]]\n",
    "        :rtype: List[int]\n",
    "        \"\"\"\n",
    "        fav_set = [set(l) for l in favoriteCompanies]\n",
    "        ans = []\n",
    "        for i,x in enumerate(fav_set):\n",
    "            flag = 0\n",
    "            for j, y in enumerate(fav_set):\n",
    "                if i ==j:\n",
    "                    continue\n",
    "                if x&y == x:\n",
    "                    flag = 1\n",
    "                    break\n",
    "            if flag == 0:\n",
    "                ans.append(i)\n",
    "                    \n",
    "        return ans\n",
    "       \n",
    "            \n",
    "        \n",
    "favoriteCompanies = [[\"leetcode\",\"google\",\"facebook\"],[\"google\",\"microsoft\"],[\"google\",\"facebook\"],[\"google\"],[\"amazon\"]]\n",
    "Solution().peopleIndexes(favoriteCompanies)"
   ]
  },
  {
   "cell_type": "code",
   "execution_count": 18,
   "metadata": {},
   "outputs": [
    {
     "name": "stdout",
     "output_type": "stream",
     "text": [
      "{1, 2}\n"
     ]
    }
   ],
   "source": [
    "a = set([1,2])\n",
    "b = set([1,2,3,4])\n",
    "print(b&a)"
   ]
  },
  {
   "cell_type": "code",
   "execution_count": null,
   "metadata": {},
   "outputs": [],
   "source": []
  },
  {
   "cell_type": "code",
   "execution_count": null,
   "metadata": {},
   "outputs": [],
   "source": []
  }
 ],
 "metadata": {
  "kernelspec": {
   "display_name": "Python 3",
   "language": "python",
   "name": "python3"
  },
  "language_info": {
   "codemirror_mode": {
    "name": "ipython",
    "version": 3
   },
   "file_extension": ".py",
   "mimetype": "text/x-python",
   "name": "python",
   "nbconvert_exporter": "python",
   "pygments_lexer": "ipython3",
   "version": "3.7.4"
  }
 },
 "nbformat": 4,
 "nbformat_minor": 2
}
