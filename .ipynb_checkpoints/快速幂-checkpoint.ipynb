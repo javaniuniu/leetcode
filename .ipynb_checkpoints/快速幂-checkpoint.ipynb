{
 "cells": [
  {
   "cell_type": "markdown",
   "metadata": {},
   "source": [
    "### 快速幂\n",
    "计算 $x^ n$ 通常需要 $n$ 次乘法, 时间复杂度为 $O(n)$ , 当 $n$ 非常大的时候, 运算效率很低.\n",
    "\n",
    "快速幂是通过把 $n$ 转化为二进制来实现的. 例如: 计算 $x^{14}$, 14 可以用二进制表示为:\n",
    "\n",
    "$14 = (1110)_ 2 = 1 * 2^3 + 1 * 2^2 + 1 * 2^1 + 0 * 2^0 $\n",
    "\n",
    "那么对应的乘法可以表示为:\n",
    "\n",
    "$x^{14} = x^{2 ^3} * x^{2^2} * x^{2 ^1} $\n",
    "\n",
    "转换后乘法运算次数减少, 每次计算 $x^{2^n}$, 再决定是否将这个数字加入到最终结果里面去. 代码如下:"
   ]
  },
  {
   "cell_type": "code",
   "execution_count": 1,
   "metadata": {},
   "outputs": [
    {
     "name": "stdout",
     "output_type": "stream",
     "text": [
      "9\n"
     ]
    }
   ],
   "source": [
    "# 快速幂\n",
    "def fpowx(x, n):\n",
    "    res = 1\n",
    "    while n:\n",
    "        if n & 1:\n",
    "            res = res * x\n",
    "        # compute x^2 x^4 x^8\n",
    "        x *= x\n",
    "        n >>= 1\n",
    "    return res\n",
    "print(fpowx(3,2))"
   ]
  },
  {
   "cell_type": "code",
   "execution_count": 2,
   "metadata": {},
   "outputs": [
    {
     "name": "stdout",
     "output_type": "stream",
     "text": [
      "6\n"
     ]
    }
   ],
   "source": [
    "# 乘法防止溢出\n",
    "def fmulti(m, n, mod=10 ** 9 + 7):\n",
    "    res = 0\n",
    "    while n:\n",
    "        if n & 1:\n",
    "            res += m\n",
    "        m = (m + m) % mod\n",
    "        res %= mod\n",
    "        n >>= 1\n",
    "    return res\n",
    "print(fmulti(3,2))"
   ]
  },
  {
   "cell_type": "code",
   "execution_count": null,
   "metadata": {},
   "outputs": [],
   "source": []
  }
 ],
 "metadata": {
  "kernelspec": {
   "display_name": "Python 3",
   "language": "python",
   "name": "python3"
  },
  "language_info": {
   "codemirror_mode": {
    "name": "ipython",
    "version": 3
   },
   "file_extension": ".py",
   "mimetype": "text/x-python",
   "name": "python",
   "nbconvert_exporter": "python",
   "pygments_lexer": "ipython3",
   "version": "3.7.4"
  }
 },
 "nbformat": 4,
 "nbformat_minor": 2
}
