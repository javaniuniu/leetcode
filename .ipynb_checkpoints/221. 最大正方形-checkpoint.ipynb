{
 "cells": [
  {
   "cell_type": "markdown",
   "metadata": {},
   "source": [
    "- 很重要的一点:\n",
    "    - __计算可能的最大正方形边长__\n",
    "    - __遇到一个 1 作为正方形的左上角__"
   ]
  },
  {
   "cell_type": "code",
   "execution_count": 9,
   "metadata": {},
   "outputs": [
    {
     "data": {
      "text/plain": [
       "4"
      ]
     },
     "execution_count": 9,
     "metadata": {},
     "output_type": "execute_result"
    }
   ],
   "source": [
    "\n",
    "class Solution(object):\n",
    "    def maximalSquare(self, matrix):\n",
    "        \"\"\"\n",
    "        :type matrix: List[List[str]]\n",
    "        :rtype: int\n",
    "        \"\"\"\n",
    "        maxSide = 0 # 最长边\n",
    "        if matrix is None or len(matrix) == 0 or len(matrix[0]) == 0:\n",
    "            return maxSide;\n",
    "        rows = len(matrix)\n",
    "        columns = len(matrix[0])\n",
    "        for i in range(rows):\n",
    "            for j in range(columns):\n",
    "                if matrix[i][j] == '1':\n",
    "                    # 遇到一个 1 作为正方形的左上角\n",
    "                    maxSide = max(maxSide,1)\n",
    "                    # 计算可能的最大正方形边长\n",
    "                    currentMaxSide = min(rows-i,columns-j)\n",
    "                    for k in range(1,currentMaxSide):\n",
    "                        flag = True\n",
    "                        if matrix[i+k][j+k] == '0':\n",
    "                            break\n",
    "                        for m in range(k):\n",
    "                            if matrix[i+k][j+m] == '0' or matrix[i+m][j+k] == '0':\n",
    "                                flag = False\n",
    "                                break\n",
    "                        if flag:\n",
    "                            maxSide = max(maxSide,k+1)\n",
    "                        else:\n",
    "                            break\n",
    "        maxSquare = maxSide * maxSide;\n",
    "        return maxSquare\n",
    "matrix = [[\"1\",\"0\",\"1\",\"0\",\"0\"],[\"1\",\"0\",\"1\",\"1\",\"1\"],[\"1\",\"1\",\"1\",\"1\",\"1\"],[\"1\",\"0\",\"0\",\"1\",\"0\"]]\n",
    "Solution().maximalSquare(matrix)\n",
    "            \n",
    "            "
   ]
  },
  {
   "cell_type": "code",
   "execution_count": 10,
   "metadata": {},
   "outputs": [
    {
     "name": "stdout",
     "output_type": "stream",
     "text": [
      "True\n"
     ]
    }
   ],
   "source": [
    "a = None\n",
    "b = None\n",
    "print(a==b)"
   ]
  },
  {
   "cell_type": "code",
   "execution_count": null,
   "metadata": {},
   "outputs": [],
   "source": []
  }
 ],
 "metadata": {
  "kernelspec": {
   "display_name": "Python 3",
   "language": "python",
   "name": "python3"
  },
  "language_info": {
   "codemirror_mode": {
    "name": "ipython",
    "version": 3
   },
   "file_extension": ".py",
   "mimetype": "text/x-python",
   "name": "python",
   "nbconvert_exporter": "python",
   "pygments_lexer": "ipython3",
   "version": "3.7.4"
  }
 },
 "nbformat": 4,
 "nbformat_minor": 2
}
