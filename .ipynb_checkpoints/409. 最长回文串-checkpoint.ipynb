{
 "cells": [
  {
   "cell_type": "code",
   "execution_count": 5,
   "metadata": {},
   "outputs": [
    {
     "data": {
      "text/plain": [
       "3"
      ]
     },
     "execution_count": 5,
     "metadata": {},
     "output_type": "execute_result"
    }
   ],
   "source": [
    "def longestPalindrome(s):\n",
    "    di = {}\n",
    "    max = 0\n",
    "    for ch in s:\n",
    "        if ch in di:\n",
    "            di[ch] +=  1\n",
    "        else:\n",
    "            di[ch] = 1\n",
    "    flag = 0\n",
    "    for d in di:\n",
    "        if di[d]%2==1:\n",
    "            flag = 1\n",
    "            max += di[d]- di[d]%2\n",
    "        else:\n",
    "            max += di[d]\n",
    "    if flag ==1 or len(s)%2==1:\n",
    "        max += 1\n",
    "    else:\n",
    "        return max\n",
    "    \n",
    "    return max\n",
    "        \n",
    "s = 'abccd'\n",
    "longestPalindrome(s)        \n"
   ]
  },
  {
   "cell_type": "code",
   "execution_count": null,
   "metadata": {},
   "outputs": [],
   "source": []
  }
 ],
 "metadata": {
  "kernelspec": {
   "display_name": "Python 3",
   "language": "python",
   "name": "python3"
  },
  "language_info": {
   "codemirror_mode": {
    "name": "ipython",
    "version": 3
   },
   "file_extension": ".py",
   "mimetype": "text/x-python",
   "name": "python",
   "nbconvert_exporter": "python",
   "pygments_lexer": "ipython3",
   "version": "3.7.4"
  }
 },
 "nbformat": 4,
 "nbformat_minor": 2
}
