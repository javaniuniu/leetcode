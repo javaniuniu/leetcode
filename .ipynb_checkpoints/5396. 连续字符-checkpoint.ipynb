{
 "cells": [
  {
   "cell_type": "code",
   "execution_count": 21,
   "metadata": {},
   "outputs": [
    {
     "data": {
      "text/plain": [
       "0"
      ]
     },
     "execution_count": 21,
     "metadata": {},
     "output_type": "execute_result"
    }
   ],
   "source": [
    "class Solution(object):\n",
    "    def maxPower(self, s):\n",
    "        if not s:\n",
    "            return 0\n",
    "        s_max = 0\n",
    "        curr_len = 0\n",
    "        curr_sub = ''\n",
    "        for ch in s:\n",
    "            if ch == curr_sub:\n",
    "                curr_len += 1\n",
    "            else:\n",
    "                curr_sub = ch\n",
    "            s_max = max(s_max,curr_len)\n",
    "        return s_max + 1\n",
    "Solution().maxPower(\"abbcccddddeeeeedcba\")"
   ]
  },
  {
   "cell_type": "code",
   "execution_count": null,
   "metadata": {},
   "outputs": [],
   "source": []
  }
 ],
 "metadata": {
  "kernelspec": {
   "display_name": "Python 3",
   "language": "python",
   "name": "python3"
  },
  "language_info": {
   "codemirror_mode": {
    "name": "ipython",
    "version": 3
   },
   "file_extension": ".py",
   "mimetype": "text/x-python",
   "name": "python",
   "nbconvert_exporter": "python",
   "pygments_lexer": "ipython3",
   "version": "3.7.4"
  }
 },
 "nbformat": 4,
 "nbformat_minor": 2
}
