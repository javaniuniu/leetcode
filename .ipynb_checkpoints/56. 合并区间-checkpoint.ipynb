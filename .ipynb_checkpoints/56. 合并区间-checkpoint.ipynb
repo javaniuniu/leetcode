{
 "cells": [
  {
   "cell_type": "code",
   "execution_count": 53,
   "metadata": {},
   "outputs": [
    {
     "name": "stdout",
     "output_type": "stream",
     "text": [
      "[[1, 6], [8, 10], [15, 18]]\n"
     ]
    }
   ],
   "source": [
    "class Solution(object):\n",
    "    def merge(self, intervals):\n",
    "        if not intervals:\n",
    "            return []\n",
    "        intervals.sort() # 按照起点排序\n",
    "        ans = [intervals[0]] # \n",
    "        for i in range(1,len(intervals)):\n",
    "            if intervals[i][0]<=ans[-1][1]:\n",
    "                ans[-1][1] = max(ans[-1][1],intervals[i][1])\n",
    "#                 if intervals[i][1]<=ans[-1][1]:\n",
    "#                     ans[-1][1] = ans[-1][1]\n",
    "#                 else:\n",
    "#                     ans[-1][1] = intervals[i][1]\n",
    "            else:\n",
    "                ans.append(intervals[i])\n",
    "        return ans\n",
    "intervals = [[1,3],[2,6],[8,10],[15,18]]\n",
    "print(Solution().merge(intervals))\n",
    "                \n",
    "        "
   ]
  },
  {
   "cell_type": "code",
   "execution_count": 5,
   "metadata": {},
   "outputs": [
    {
     "name": "stdout",
     "output_type": "stream",
     "text": [
      "[[1, 2], [2, 12], [3, 4]]\n"
     ]
    }
   ],
   "source": [
    "d = [[1, 2], [3, 4], [2,7]]\n",
    "d.sort()\n",
    "d[1][1] = 12\n",
    "print(d)\n",
    "# for i,sd in enumerate(d):\n",
    "    "
   ]
  },
  {
   "cell_type": "code",
   "execution_count": null,
   "metadata": {},
   "outputs": [],
   "source": []
  }
 ],
 "metadata": {
  "kernelspec": {
   "display_name": "Python 3",
   "language": "python",
   "name": "python3"
  },
  "language_info": {
   "codemirror_mode": {
    "name": "ipython",
    "version": 3
   },
   "file_extension": ".py",
   "mimetype": "text/x-python",
   "name": "python",
   "nbconvert_exporter": "python",
   "pygments_lexer": "ipython3",
   "version": "3.7.4"
  }
 },
 "nbformat": 4,
 "nbformat_minor": 2
}
