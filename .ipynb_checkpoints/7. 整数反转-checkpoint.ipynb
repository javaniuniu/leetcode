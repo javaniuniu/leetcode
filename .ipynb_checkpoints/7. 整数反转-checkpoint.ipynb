{
 "cells": [
  {
   "cell_type": "code",
   "execution_count": null,
   "metadata": {},
   "outputs": [],
   "source": [
    "class Solution(object):\n",
    "    def reverse(self, x):\n",
    "        \"\"\"\n",
    "        :type x: int\n",
    "        :rtype: int\n",
    "        \"\"\"\n",
    "        ans = 0\n",
    "        while True:\n",
    "            idx = x%10\n",
    "            if x//10:\n",
    "                ans = ans * 10 + idx\n",
    "                x //=10\n",
    "            else:\n",
    "                ans + idx\n",
    "        return ans\n",
    "nums = 1234\n",
    "print(Solution().reverse(nums))"
   ]
  },
  {
   "cell_type": "code",
   "execution_count": null,
   "metadata": {},
   "outputs": [],
   "source": [
    "class Solution(object):\n",
    "    def reverse(self, x):\n",
    "        ans = 0\n",
    "        while True:\n",
    "            idx = x%10\n",
    "            if x//10:\n",
    "                ans = ans * 10 + idx\n",
    "                x //=10\n",
    "            else:\n",
    "                # ans = ans * 10 + idx  if flag_minus== False   else -(ans * 10 + idx) # 添加正负号\n",
    "                return ans if -2**31 <ans <2**31 else 0 # 判断 int 是否溢出\n",
    "nums = -100\n",
    "print(Solution().reverse(nums))"
   ]
  },
  {
   "cell_type": "code",
   "execution_count": null,
   "metadata": {},
   "outputs": [],
   "source": []
  },
  {
   "cell_type": "code",
   "execution_count": null,
   "metadata": {},
   "outputs": [],
   "source": []
  }
 ],
 "metadata": {
  "kernelspec": {
   "display_name": "Python 3",
   "language": "python",
   "name": "python3"
  },
  "language_info": {
   "codemirror_mode": {
    "name": "ipython",
    "version": 3
   },
   "file_extension": ".py",
   "mimetype": "text/x-python",
   "name": "python",
   "nbconvert_exporter": "python",
   "pygments_lexer": "ipython3",
   "version": "3.7.4"
  }
 },
 "nbformat": 4,
 "nbformat_minor": 2
}
