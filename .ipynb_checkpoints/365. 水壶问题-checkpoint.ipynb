{
 "cells": [
  {
   "cell_type": "code",
   "execution_count": 31,
   "metadata": {},
   "outputs": [
    {
     "data": {
      "text/plain": [
       "2"
      ]
     },
     "execution_count": 31,
     "metadata": {},
     "output_type": "execute_result"
    }
   ],
   "source": [
    "# 欧几里得法(辗转相除法)\n",
    "def first_way(a,b):\n",
    "    while b!=0:\n",
    "        temp = a % b\n",
    "        a = b\n",
    "        b = temp\n",
    "    return a\n",
    "\n",
    "first_way(6,2)\n",
    "        "
   ]
  },
  {
   "cell_type": "code",
   "execution_count": 48,
   "metadata": {},
   "outputs": [
    {
     "data": {
      "text/plain": [
       "False"
      ]
     },
     "execution_count": 48,
     "metadata": {},
     "output_type": "execute_result"
    }
   ],
   "source": [
    "# 365. 水壶问题\n",
    "class Solution:\n",
    "    def canMeasureWater(self, a: int, b: int, c: int) -> bool:\n",
    "        # 保证a>b\n",
    "        if b>a:\n",
    "            a , b = b ,a\n",
    "        if c == 0: # 当c == 0 时 肯定满足\n",
    "            return True \n",
    "        if a + b < c: # 这个条件 题目中没说清楚\n",
    "            return False\n",
    "        if b == 0: # 当b=0时 a==c 才能满足条件\n",
    "            return a==c\n",
    "        # 求最大公约数，官方叫法 欧几里得法(辗转相除法)\n",
    "        while b!=0:\n",
    "            temp = a % b\n",
    "            a = b\n",
    "            b = temp\n",
    "        if c%a!=0:\n",
    "            return False\n",
    "        return True\n",
    "        \n",
    "canMeasureWater(3,5,4)"
   ]
  },
  {
   "cell_type": "code",
   "execution_count": null,
   "metadata": {},
   "outputs": [],
   "source": []
  }
 ],
 "metadata": {
  "kernelspec": {
   "display_name": "Python 3",
   "language": "python",
   "name": "python3"
  },
  "language_info": {
   "codemirror_mode": {
    "name": "ipython",
    "version": 3
   },
   "file_extension": ".py",
   "mimetype": "text/x-python",
   "name": "python",
   "nbconvert_exporter": "python",
   "pygments_lexer": "ipython3",
   "version": "3.7.4"
  }
 },
 "nbformat": 4,
 "nbformat_minor": 2
}
