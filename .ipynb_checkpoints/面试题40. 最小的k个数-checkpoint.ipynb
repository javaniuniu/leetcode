{
 "cells": [
  {
   "cell_type": "code",
   "execution_count": 36,
   "metadata": {},
   "outputs": [
    {
     "data": {
      "text/plain": [
       "[1, 2]"
      ]
     },
     "execution_count": 36,
     "metadata": {},
     "output_type": "execute_result"
    }
   ],
   "source": [
    "# 哈希表\n",
    "def getLeastNumbers(arr,k):\n",
    "    res = []\n",
    "    for i in range(len(arr)-1):\n",
    "        if arr[i]> arr[i+1]:\n",
    "            sort(arr,i)\n",
    "        for j in range(i,0,-1):\n",
    "            if arr[j] < arr[j-1]:\n",
    "                lowsort(arr,j)\n",
    "#             \n",
    "    return arr[:k]\n",
    "        \n",
    "        \n",
    "def sort(arr,i):\n",
    "    temp = arr[i]\n",
    "    arr[i] = arr[i+1]\n",
    "    arr[i+1] = temp\n",
    "    return arr\n",
    "\n",
    "def lowsort(arr,j):\n",
    "    temp = arr[j]\n",
    "    arr[j] = arr[j-1]\n",
    "    arr[j-1] = temp\n",
    "    return arr\n",
    "\n",
    "    \n",
    "arr = [3,2,1]\n",
    "k = 2\n",
    "getLeastNumbers(arr,k)\n",
    "        \n",
    "            "
   ]
  },
  {
   "cell_type": "code",
   "execution_count": null,
   "metadata": {},
   "outputs": [],
   "source": []
  }
 ],
 "metadata": {
  "kernelspec": {
   "display_name": "Python 3",
   "language": "python",
   "name": "python3"
  },
  "language_info": {
   "codemirror_mode": {
    "name": "ipython",
    "version": 3
   },
   "file_extension": ".py",
   "mimetype": "text/x-python",
   "name": "python",
   "nbconvert_exporter": "python",
   "pygments_lexer": "ipython3",
   "version": "3.7.4"
  }
 },
 "nbformat": 4,
 "nbformat_minor": 2
}
