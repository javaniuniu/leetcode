{
 "cells": [
  {
   "cell_type": "code",
   "execution_count": 42,
   "metadata": {},
   "outputs": [
    {
     "data": {
      "text/plain": [
       "4"
      ]
     },
     "execution_count": 42,
     "metadata": {},
     "output_type": "execute_result"
    }
   ],
   "source": [
    "# 动态规划\n",
    "class Solution:\n",
    "    def massage(self, nums):\n",
    "        lenNums = len(nums)\n",
    "        if nums == None or lenNums ==0:\n",
    "            return 0\n",
    "        opt = [0] * lenNums\n",
    "        if lenNums == 1:\n",
    "            return nums[0]\n",
    "        if lenNums == 2:\n",
    "            return max(nums[0],nums[1])\n",
    "        opt[0] = nums[0]\n",
    "        opt[1] = max(nums[0],nums[1])\n",
    "        for i in range(2,lenNums):\n",
    "            a = opt[i-2] + nums[i]\n",
    "            b = opt[i-1]\n",
    "            opt[i] = max(a,b)\n",
    "        return opt[lenNums-1]\n",
    "nums = [1,2,3,1]\n",
    "Solution().massage(nums)"
   ]
  },
  {
   "cell_type": "code",
   "execution_count": 43,
   "metadata": {},
   "outputs": [
    {
     "data": {
      "text/plain": [
       "4"
      ]
     },
     "execution_count": 43,
     "metadata": {},
     "output_type": "execute_result"
    }
   ],
   "source": [
    "# 递归\n",
    "class Solution:\n",
    "    def massage(self, nums):\n",
    "        lenNums = len(nums)\n",
    "        if nums == None or lenNums ==0:\n",
    "            return 0\n",
    "        return self.opt(nums,lenNums-1)\n",
    "\n",
    "    def opt(self,nums,lenNums):\n",
    "        if lenNums == 0 :\n",
    "            return nums[0]\n",
    "        elif lenNums == 1 :\n",
    "            return max(nums[0],nums[1])\n",
    "        else:\n",
    "            a = self.opt(nums,lenNums-2) + nums[lenNums] # 选择nums[i]\n",
    "            b = self.opt(nums,lenNums-1) # 不选nums[i]\n",
    "            return max(a,b)\n",
    "        \n",
    "nums = [1,2,3,1]\n",
    "Solution().massage(nums)            \n",
    "            \n",
    "        \n",
    "        "
   ]
  },
  {
   "cell_type": "code",
   "execution_count": null,
   "metadata": {},
   "outputs": [],
   "source": []
  }
 ],
 "metadata": {
  "kernelspec": {
   "display_name": "Python 3",
   "language": "python",
   "name": "python3"
  },
  "language_info": {
   "codemirror_mode": {
    "name": "ipython",
    "version": 3
   },
   "file_extension": ".py",
   "mimetype": "text/x-python",
   "name": "python",
   "nbconvert_exporter": "python",
   "pygments_lexer": "ipython3",
   "version": "3.7.4"
  }
 },
 "nbformat": 4,
 "nbformat_minor": 2
}
