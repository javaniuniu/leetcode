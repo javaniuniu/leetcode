{
 "cells": [
  {
   "cell_type": "markdown",
   "metadata": {},
   "source": [
    "- 从右向左推，记录能到达终点的上一个最远的距离，并记录当前的下标 作为下一个循环的目标\n",
    "- 遍历到最后 如果  `i + nums[i] < p` 即，`flag = False`,则返回 `False`,否则放回True\n",
    "- 时间复杂度 $O(n^2)$ 时间复杂度 $O(1)$"
   ]
  },
  {
   "cell_type": "code",
   "execution_count": 5,
   "metadata": {},
   "outputs": [
    {
     "data": {
      "text/plain": [
       "False"
      ]
     },
     "execution_count": 5,
     "metadata": {},
     "output_type": "execute_result"
    }
   ],
   "source": [
    "class Solution(object):\n",
    "    def canJump(self, nums):\n",
    "        p = len(nums) -1 \n",
    "        falg = True\n",
    "        while  p > 0 and falg:\n",
    "            falg = False\n",
    "            for i in range(p):\n",
    "                if i + nums[i] >= p:\n",
    "                    p = i\n",
    "                    falg = True\n",
    "                    break\n",
    "        return falg\n",
    "nums = [0,2,3]\n",
    "Solution().canJump(nums)"
   ]
  },
  {
   "cell_type": "code",
   "execution_count": 3,
   "metadata": {},
   "outputs": [
    {
     "data": {
      "text/plain": [
       "True"
      ]
     },
     "execution_count": 3,
     "metadata": {},
     "output_type": "execute_result"
    }
   ],
   "source": [
    "# 贪心\n",
    "class Solution(object):\n",
    "    def canJump(self, nums):\n",
    "        \"\"\"\n",
    "        :type nums: List[int]\n",
    "        :rtype: bool\n",
    "        \"\"\"\n",
    "        nums_len = len(nums) -1\n",
    "        distance_max = 0 # 记录从0开始能到到达的最远距离\n",
    "        for i in range(len(nums)):\n",
    "            if i <= distance_max: # 说明 下标 i 是能涉足到\n",
    "                distance_max = max(distance_max,i + nums[i]) # i 这个下标能到达的最远距离 和 distance_max 比较\n",
    "                if distance_max >= nums_len: \n",
    "                    return True\n",
    "        return False\n",
    "nums = [2,3,1,1,4]\n",
    "Solution().canJump(nums)\n",
    "                "
   ]
  },
  {
   "cell_type": "code",
   "execution_count": 6,
   "metadata": {},
   "outputs": [
    {
     "data": {
      "text/plain": [
       "True"
      ]
     },
     "execution_count": 6,
     "metadata": {},
     "output_type": "execute_result"
    }
   ],
   "source": [
    "# 优化贪心\n",
    "class Solution(object):\n",
    "    def canJump(self, nums):\n",
    "        \"\"\"\n",
    "        :type nums: List[int]\n",
    "        :rtype: bool\n",
    "        \"\"\"\n",
    "        k = 0\n",
    "        for i in range(len(nums)-1):\n",
    "            if i > k:\n",
    "                return False\n",
    "            k = max(k,i+nums[i])\n",
    "        return True\n",
    "nums = [2,3,1,1,4]\n",
    "Solution().canJump(nums)"
   ]
  },
  {
   "cell_type": "code",
   "execution_count": 30,
   "metadata": {},
   "outputs": [
    {
     "data": {
      "text/plain": [
       "True"
      ]
     },
     "execution_count": 30,
     "metadata": {},
     "output_type": "execute_result"
    }
   ],
   "source": [
    "# 递归\n",
    "class Solution(object):\n",
    "    def canJump(self, nums):\n",
    "        if not nums:\n",
    "            return True\t\t\t\t\n",
    "        n = len(nums)\n",
    "        def dfs(index):\n",
    "            # 递归的终止条件\n",
    "            if index>=n-1:\n",
    "                return True\n",
    "            # 根据nums[index]表示要循环多少次，index是当前我们能到达的位置，\n",
    "            # 在这个基础上有 index+1，index+2.... index+i种跳跃选择\n",
    "            for i in range(1,nums[index]+1):\n",
    "                if dfs(index+i):\n",
    "                    return True\n",
    "            return False\n",
    "        return dfs(0)\n",
    "\n",
    "nums = [2,3,1,1,4]\n",
    "Solution().canJump(nums)"
   ]
  },
  {
   "cell_type": "code",
   "execution_count": 26,
   "metadata": {},
   "outputs": [
    {
     "data": {
      "text/plain": [
       "True"
      ]
     },
     "execution_count": 26,
     "metadata": {},
     "output_type": "execute_result"
    }
   ],
   "source": [
    "# 递归+记忆化\n",
    "class Solution(object):\n",
    "    def canJump(self, nums):\t\t\n",
    "        if not nums:\n",
    "            return True\n",
    "        n = len(nums)\n",
    "        cache = dict()\n",
    "        def dfs(index):\n",
    "            if index>=n-1:\n",
    "                return True\n",
    "            if index in cache:\n",
    "                return cache[index]\n",
    "            for i in range(1,nums[index]+1):\n",
    "                if dfs(i+index):\n",
    "                    cache[index] = True\n",
    "                    return True\n",
    "            cache[index] = False\n",
    "            return False\n",
    "        return dfs(0)\n",
    "\n",
    "nums = [2,3,1,1,4]\n",
    "Solution().canJump(nums)\n",
    "\n"
   ]
  },
  {
   "cell_type": "code",
   "execution_count": null,
   "metadata": {},
   "outputs": [],
   "source": []
  }
 ],
 "metadata": {
  "kernelspec": {
   "display_name": "Python 3",
   "language": "python",
   "name": "python3"
  },
  "language_info": {
   "codemirror_mode": {
    "name": "ipython",
    "version": 3
   },
   "file_extension": ".py",
   "mimetype": "text/x-python",
   "name": "python",
   "nbconvert_exporter": "python",
   "pygments_lexer": "ipython3",
   "version": "3.7.4"
  }
 },
 "nbformat": 4,
 "nbformat_minor": 2
}
