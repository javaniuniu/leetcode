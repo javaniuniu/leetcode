{
 "cells": [
  {
   "cell_type": "code",
   "execution_count": 18,
   "metadata": {},
   "outputs": [
    {
     "name": "stdout",
     "output_type": "stream",
     "text": [
      "36\n",
      "61\n",
      "62\n"
     ]
    },
    {
     "data": {
      "text/plain": [
       "0"
      ]
     },
     "execution_count": 18,
     "metadata": {},
     "output_type": "execute_result"
    }
   ],
   "source": [
    "# 获取数字\n",
    "def getNum(n):\n",
    "    while n!=0:\n",
    "        a = n%10\n",
    "        print(a)\n",
    "        n //= 10\n",
    "getNum(156)"
   ]
  },
  {
   "cell_type": "code",
   "execution_count": 37,
   "metadata": {},
   "outputs": [
    {
     "data": {
      "text/plain": [
       "True"
      ]
     },
     "execution_count": 37,
     "metadata": {},
     "output_type": "execute_result"
    }
   ],
   "source": [
    "class Solution:\n",
    "    def isHappy( n: int) -> bool:\n",
    "        sumNum = 0;\n",
    "        while n!=0:\n",
    "            sumNum += (n%10)*(n%10)\n",
    "            # print(a)\n",
    "            n //= 10\n",
    "            if n == 0:\n",
    "                if sumNum == 1 or sumNum==7:\n",
    "                    return True\n",
    "                if sumNum<10:\n",
    "                    return False\n",
    "                else :\n",
    "                    n = sumNum\n",
    "                    sumNum = 0\n",
    "            \n",
    "Solution.isHappy(1)"
   ]
  },
  {
   "cell_type": "code",
   "execution_count": null,
   "metadata": {},
   "outputs": [],
   "source": []
  }
 ],
 "metadata": {
  "kernelspec": {
   "display_name": "Python 3",
   "language": "python",
   "name": "python3"
  },
  "language_info": {
   "codemirror_mode": {
    "name": "ipython",
    "version": 3
   },
   "file_extension": ".py",
   "mimetype": "text/x-python",
   "name": "python",
   "nbconvert_exporter": "python",
   "pygments_lexer": "ipython3",
   "version": "3.7.4"
  }
 },
 "nbformat": 4,
 "nbformat_minor": 2
}
