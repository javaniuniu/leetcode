{
 "cells": [
  {
   "cell_type": "code",
   "execution_count": 38,
   "metadata": {},
   "outputs": [
    {
     "name": "stdout",
     "output_type": "stream",
     "text": [
      "6\n",
      "5\n",
      "1\n"
     ]
    }
   ],
   "source": [
    "# 数位分离\n",
    "def getNum(n):\n",
    "    while n!=0:\n",
    "        a = n%10\n",
    "        print(a)\n",
    "        n //= 10\n",
    "getNum(156)"
   ]
  },
  {
   "cell_type": "code",
   "execution_count": 5,
   "metadata": {},
   "outputs": [
    {
     "data": {
      "text/plain": [
       "False"
      ]
     },
     "execution_count": 5,
     "metadata": {},
     "output_type": "execute_result"
    }
   ],
   "source": [
    "class Solution:\n",
    "    def isHappy( n: int) -> bool:\n",
    "        sumNum = 0;\n",
    "        while n!=0:\n",
    "            sumNum += n%10 ** 2\n",
    "            # print(a)\n",
    "            n //= 10\n",
    "            if n == 0:\n",
    "                if sumNum == 1 or sumNum==7:\n",
    "                    return True\n",
    "                if sumNum<10:\n",
    "                    return False\n",
    "                else :\n",
    "                    n = sumNum\n",
    "                    sumNum = 0\n",
    "            \n",
    "Solution.isHappy(6)"
   ]
  },
  {
   "cell_type": "code",
   "execution_count": 14,
   "metadata": {},
   "outputs": [
    {
     "data": {
      "text/plain": [
       "False"
      ]
     },
     "execution_count": 14,
     "metadata": {},
     "output_type": "execute_result"
    }
   ],
   "source": [
    "class Solution:\n",
    "    def isHappy( n: int) -> bool:\n",
    "        def get_next(n):\n",
    "            total_sum = 0\n",
    "            while n >0 :\n",
    "                n , digit = divmod(n,10)\n",
    "                total_sum += digit ** 2\n",
    "            return total_sum\n",
    "        \n",
    "        seen = set()\n",
    "        while n!=1 and n not in seen:\n",
    "            seen.add(n)\n",
    "            n = get_next(n)\n",
    "        return n==1\n",
    "Solution.isHappy(6)"
   ]
  },
  {
   "cell_type": "code",
   "execution_count": 16,
   "metadata": {},
   "outputs": [],
   "source": [
    "class Solution:\n",
    "    def isHappy( n: int) -> bool:\n",
    "        def get_next(n):\n",
    "            total_sum = 0\n",
    "            while n >0 :\n",
    "                n , digit = divmod(n,10)\n",
    "                total_sum += digit ** 2\n",
    "            return total_sum\n",
    "        while n != 1:\n",
    "            if sumNum == 1 or sumNum==7:\n",
    "                return True\n",
    "            if sumNum<10:\n",
    "                return False\n",
    "            else :\n",
    "                n = sumNum\n",
    "                sumNum = 0\n",
    "Solution.isHappy(1)"
   ]
  },
  {
   "cell_type": "code",
   "execution_count": null,
   "metadata": {},
   "outputs": [],
   "source": []
  },
  {
   "cell_type": "code",
   "execution_count": null,
   "metadata": {},
   "outputs": [],
   "source": []
  }
 ],
 "metadata": {
  "kernelspec": {
   "display_name": "Python 3",
   "language": "python",
   "name": "python3"
  },
  "language_info": {
   "codemirror_mode": {
    "name": "ipython",
    "version": 3
   },
   "file_extension": ".py",
   "mimetype": "text/x-python",
   "name": "python",
   "nbconvert_exporter": "python",
   "pygments_lexer": "ipython3",
   "version": "3.7.4"
  }
 },
 "nbformat": 4,
 "nbformat_minor": 2
}
