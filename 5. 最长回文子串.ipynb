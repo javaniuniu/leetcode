{
 "cells": [
  {
   "cell_type": "code",
   "execution_count": 27,
   "metadata": {},
   "outputs": [
    {
     "data": {
      "text/plain": [
       "'abcba'"
      ]
     },
     "execution_count": 27,
     "metadata": {},
     "output_type": "execute_result"
    }
   ],
   "source": [
    "class Solution:\n",
    "    def longestPalindrome(self,s: str) -> str:\n",
    "        start , end = 0 , 0\n",
    "        \n",
    "        for i in range(len(s)-1):\n",
    "            lenOne = self.expandAroundCenter(s,i,i) # 一个中心的情况 aba\n",
    "            lenTwo = self.expandAroundCenter(s,i,i+1) # 两个中心的情况 abba\n",
    "            lenMax = max(lenOne,lenTwo)\n",
    "            if lenMax > end - start: # 每次循环 判断最长的回文串首尾\n",
    "                start = i - (lenMax-1)//2 # // 当一个中心的情况 start = i - len/2 当两个中心的情况 i 右边做了 i+1 操作 所以 len -1\n",
    "                end = i + lenMax//2 # 这个还好理解\n",
    "            \n",
    "        return s[start:end+1]\n",
    "    # 中心扩展算法\n",
    "    def expandAroundCenter(self,s:str ,left:int,right:int) ->int:\n",
    "        while left >= 0 and right < len(s) and s[left] == s[right]:\n",
    "            left = left -1\n",
    "            right = right +1\n",
    "        return right - left -1\n",
    "    \n",
    "s = 'abcba'\n",
    "Solution().longestPalindrome(s)\n",
    "        "
   ]
  },
  {
   "cell_type": "code",
   "execution_count": null,
   "metadata": {},
   "outputs": [],
   "source": []
  }
 ],
 "metadata": {
  "kernelspec": {
   "display_name": "Python 3",
   "language": "python",
   "name": "python3"
  },
  "language_info": {
   "codemirror_mode": {
    "name": "ipython",
    "version": 3
   },
   "file_extension": ".py",
   "mimetype": "text/x-python",
   "name": "python",
   "nbconvert_exporter": "python",
   "pygments_lexer": "ipython3",
   "version": "3.7.4"
  }
 },
 "nbformat": 4,
 "nbformat_minor": 2
}
