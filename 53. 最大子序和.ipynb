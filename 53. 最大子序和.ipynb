{
 "cells": [
  {
   "cell_type": "code",
   "execution_count": 3,
   "metadata": {},
   "outputs": [
    {
     "data": {
      "text/plain": [
       "6"
      ]
     },
     "execution_count": 3,
     "metadata": {},
     "output_type": "execute_result"
    }
   ],
   "source": [
    "# 贪心\n",
    "class Solution(object):\n",
    "    def maxSubArray(self, nums):\n",
    "        ans = nums[0]\n",
    "        numsSum = 0\n",
    "        for num in nums:\n",
    "            if numsSum >0:\n",
    "                numsSum += num\n",
    "            else:\n",
    "                numsSum = num\n",
    "            ans = max(numsSum,ans)\n",
    "        return ans\n",
    "        \n",
    "nums = [-2,1,-3,4,-1,2,1,-5,4]\n",
    "Solution().maxSubArray(nums)"
   ]
  },
  {
   "cell_type": "code",
   "execution_count": 4,
   "metadata": {},
   "outputs": [
    {
     "data": {
      "text/plain": [
       "6"
      ]
     },
     "execution_count": 4,
     "metadata": {},
     "output_type": "execute_result"
    }
   ],
   "source": [
    "# 动态规划\n",
    "class Solution(object):\n",
    "    def maxSubArray(self, nums):\n",
    "        if nums is None:\n",
    "            return 0\n",
    "        if len(nums) ==1:\n",
    "            return nums[0]\n",
    "        # 下面为nums长度至少为2的情况\n",
    "        res = nums[0] # 先设定一个初始值（假设第一个数是可获得的最小值）\n",
    "        for i in range(1,len(nums)): \n",
    "            nums[i] = max(nums[i-1]+nums[i],nums[i]) # 更新后的nums[i]存储 以原始num[i]为结尾的子数组和的最大值\n",
    "            res = max(res,nums[i]) # 更新最大值\n",
    "        return res\n",
    "nums = [-2,1,-3,4,-1,2,1,-5,4]\n",
    "Solution().maxSubArray(nums)"
   ]
  },
  {
   "cell_type": "code",
   "execution_count": null,
   "metadata": {},
   "outputs": [],
   "source": []
  }
 ],
 "metadata": {
  "kernelspec": {
   "display_name": "Python 3",
   "language": "python",
   "name": "python3"
  },
  "language_info": {
   "codemirror_mode": {
    "name": "ipython",
    "version": 3
   },
   "file_extension": ".py",
   "mimetype": "text/x-python",
   "name": "python",
   "nbconvert_exporter": "python",
   "pygments_lexer": "ipython3",
   "version": "3.7.4"
  }
 },
 "nbformat": 4,
 "nbformat_minor": 2
}
