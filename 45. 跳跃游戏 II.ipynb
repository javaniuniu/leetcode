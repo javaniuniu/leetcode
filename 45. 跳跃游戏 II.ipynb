{
 "cells": [
  {
   "cell_type": "code",
   "execution_count": 9,
   "metadata": {},
   "outputs": [
    {
     "name": "stdout",
     "output_type": "stream",
     "text": [
      "2\n"
     ]
    }
   ],
   "source": [
    "# 贪心算法一\n",
    "# 从右往左查找上一个位置\n",
    "class Solution(object):\n",
    "    def jump(self, nums):\n",
    "        \"\"\"\n",
    "        :type nums: List[int]\n",
    "        :rtype: int\n",
    "        \"\"\"\n",
    "        position = len(nums) -1\n",
    "        step = 0\n",
    "        while position > 0:\n",
    "            for i in range(len(nums)):\n",
    "                if i + nums[i] >= position:\n",
    "                    position = i\n",
    "                    step += 1\n",
    "                    break\n",
    "        return step\n",
    "nums = [2,3,1,1,4]\n",
    "print(Solution().jump(nums))\n",
    "                \n",
    "        "
   ]
  },
  {
   "cell_type": "code",
   "execution_count": 14,
   "metadata": {},
   "outputs": [
    {
     "name": "stdout",
     "output_type": "stream",
     "text": [
      "2\n"
     ]
    }
   ],
   "source": [
    "# 贪心算法二\n",
    "# 从左往右找下一个位置 找到则 + 1\n",
    "class Solution(object):\n",
    "    def jump(self, nums):\n",
    "        \"\"\"\n",
    "        :type nums: List[int]\n",
    "        :rtype: int\n",
    "        \"\"\"\n",
    "        position_max = 0\n",
    "        step = 0\n",
    "        end = 0\n",
    "        for i in range(len(nums)-1):\n",
    "            position_max = max(position_max,i + nums[i])\n",
    "            if i == end:\n",
    "                step += 1\n",
    "                end = position_max\n",
    "        return step\n",
    "nums = [2,3,1,1,4]\n",
    "print(Solution().jump(nums))            \n",
    "            \n",
    "        "
   ]
  },
  {
   "cell_type": "code",
   "execution_count": null,
   "metadata": {},
   "outputs": [],
   "source": []
  }
 ],
 "metadata": {
  "kernelspec": {
   "display_name": "Python 3",
   "language": "python",
   "name": "python3"
  },
  "language_info": {
   "codemirror_mode": {
    "name": "ipython",
    "version": 3
   },
   "file_extension": ".py",
   "mimetype": "text/x-python",
   "name": "python",
   "nbconvert_exporter": "python",
   "pygments_lexer": "ipython3",
   "version": "3.7.4"
  }
 },
 "nbformat": 4,
 "nbformat_minor": 2
}
