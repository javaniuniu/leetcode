{
 "cells": [
  {
   "cell_type": "code",
   "execution_count": 10,
   "metadata": {},
   "outputs": [
    {
     "name": "stdout",
     "output_type": "stream",
     "text": [
      "True\n"
     ]
    }
   ],
   "source": [
    "rec1 = [0,0,2,2]\n",
    "rec2 = [1,1,3,3]\n",
    "def isRectangleOverlap(rec1, rec2):\n",
    "        \"\"\"\n",
    "        :type rec1: List[int]\n",
    "        :type rec2: List[int]\n",
    "        :rtype: bool\n",
    "        \"\"\"\n",
    "        if rec1[0]>=rec2[2] or rec1[2]<=rec2[0]:\n",
    "            return False\n",
    "        else:\n",
    "            if rec1[1]>=rec2[3] or rec1[3]<=rec2[1]:\n",
    "                return False\n",
    "            else:\n",
    "                return True\n",
    "print(isRectangleOverlap(rec1,rec2))"
   ]
  },
  {
   "cell_type": "code",
   "execution_count": null,
   "metadata": {},
   "outputs": [],
   "source": [
    "class Solution(object):\n",
    "    def isRectangleOverlap(self, rec1, rec2):\n",
    "        def intersect(p_left, p_right, q_left, q_right):\n",
    "            return min(p_right, q_right) > max(p_left, q_left)\n",
    "        return (intersect(rec1[0], rec1[2], rec2[0], rec2[2]) and\n",
    "                intersect(rec1[1], rec1[3], rec2[1], rec2[3]))\n"
   ]
  }
 ],
 "metadata": {
  "kernelspec": {
   "display_name": "Python 3",
   "language": "python",
   "name": "python3"
  },
  "language_info": {
   "codemirror_mode": {
    "name": "ipython",
    "version": 3
   },
   "file_extension": ".py",
   "mimetype": "text/x-python",
   "name": "python",
   "nbconvert_exporter": "python",
   "pygments_lexer": "ipython3",
   "version": "3.7.4"
  }
 },
 "nbformat": 4,
 "nbformat_minor": 2
}
