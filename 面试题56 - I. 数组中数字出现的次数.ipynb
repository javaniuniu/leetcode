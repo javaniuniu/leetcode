{
 "cells": [
  {
   "cell_type": "code",
   "execution_count": 4,
   "metadata": {},
   "outputs": [
    {
     "data": {
      "text/plain": [
       "[1, 6]"
      ]
     },
     "execution_count": 4,
     "metadata": {},
     "output_type": "execute_result"
    }
   ],
   "source": [
    "import functools\n",
    "def singleNumbers(nums):\n",
    "        ret = functools.reduce(lambda x, y: x ^ y, nums) # 运算规则：0^0=0；   0^1=1；   1^0=1；   1^1=0；\n",
    "        div = 1 # 获得ret中最低位的1 0&0=0;   0&1=0;    1&0=0;     1&1=1;\n",
    "        while div & ret == 0:\n",
    "            div <<= 1\n",
    "        a, b = 0, 0\n",
    "        for n in nums:\n",
    "            if n & div:\n",
    "                a ^= n\n",
    "            else:\n",
    "                b ^= n\n",
    "        return [a, b]\n",
    "nums = [4,1,4,6]\n",
    "singleNumbers(nums)"
   ]
  },
  {
   "cell_type": "code",
   "execution_count": null,
   "metadata": {},
   "outputs": [],
   "source": []
  }
 ],
 "metadata": {
  "kernelspec": {
   "display_name": "Python 3",
   "language": "python",
   "name": "python3"
  },
  "language_info": {
   "codemirror_mode": {
    "name": "ipython",
    "version": 3
   },
   "file_extension": ".py",
   "mimetype": "text/x-python",
   "name": "python",
   "nbconvert_exporter": "python",
   "pygments_lexer": "ipython3",
   "version": "3.7.4"
  }
 },
 "nbformat": 4,
 "nbformat_minor": 2
}
