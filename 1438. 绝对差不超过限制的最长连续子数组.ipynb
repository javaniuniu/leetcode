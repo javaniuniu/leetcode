{
 "cells": [
  {
   "cell_type": "code",
   "execution_count": 16,
   "metadata": {},
   "outputs": [],
   "source": [
    "class Solution(object):\n",
    "    def longestSubarray(self, nums, limit):\n",
    "        if not nums:\n",
    "            return 0\n",
    "        curr_max = nums[0] # 当子数组下最大值 这里初始化为第一个数\n",
    "        curr_min = nums[0] # 当子数组下最大值 这里初始化为第一个数\n",
    "        sub_nums = [] # 以数组作为窗口滑动\n",
    "        for num in nums:\n",
    "            if abs(num - curr_max) <=  limit and abs(num - curr_min) <=  limit and abs(curr_max - curr_min) <= limit:\n",
    "                curr_max = max(num,curr_max)\n",
    "                curr_min = min(num,curr_min)\n",
    "                sub_nums.append(num)\n",
    "            else:    \n",
    "                sub_nums.append(num)\n",
    "                sub_nums.pop(0)\n",
    "                curr_max = max(sub_nums) # 当子数组最大值\n",
    "                curr_min = min(sub_nums) # 当前子数组最小值\n",
    "        return  len(sub_nums)"
   ]
  },
  {
   "cell_type": "code",
   "execution_count": null,
   "metadata": {},
   "outputs": [],
   "source": []
  }
 ],
 "metadata": {
  "kernelspec": {
   "display_name": "Python 3",
   "language": "python",
   "name": "python3"
  },
  "language_info": {
   "codemirror_mode": {
    "name": "ipython",
    "version": 3
   },
   "file_extension": ".py",
   "mimetype": "text/x-python",
   "name": "python",
   "nbconvert_exporter": "python",
   "pygments_lexer": "ipython3",
   "version": "3.7.4"
  }
 },
 "nbformat": 4,
 "nbformat_minor": 2
}
